{
 "cells": [
  {
   "cell_type": "code",
   "execution_count": 10,
   "id": "9b5de1db",
   "metadata": {},
   "outputs": [
    {
     "data": {
      "text/plain": [
       "'A ralative path refers to a current location of a directory '"
      ]
     },
     "execution_count": 10,
     "metadata": {},
     "output_type": "execute_result"
    }
   ],
   "source": [
    "#Q1\n",
    "'''A ralative path refers to a current location of a directory '''"
   ]
  },
  {
   "cell_type": "code",
   "execution_count": 11,
   "id": "a9f8c83f",
   "metadata": {},
   "outputs": [
    {
     "data": {
      "text/plain": [
       "'The absolute path is use to locate a file or folder in os'"
      ]
     },
     "execution_count": 11,
     "metadata": {},
     "output_type": "execute_result"
    }
   ],
   "source": [
    "#Q2\n",
    "'''The absolute path is use to locate a file or folder in os'''"
   ]
  },
  {
   "cell_type": "code",
   "execution_count": 14,
   "id": "24b9efce",
   "metadata": {},
   "outputs": [
    {
     "data": {
      "text/plain": [
       "'The os.getcwd() shows the current working directory\\nand the os.chdir() changes the current working directory to the specified path '"
      ]
     },
     "execution_count": 14,
     "metadata": {},
     "output_type": "execute_result"
    }
   ],
   "source": [
    "#Q3\n",
    "'''The os.getcwd() shows the current working directory\n",
    "and the os.chdir() changes the current working directory to the specified path '''"
   ]
  },
  {
   "cell_type": "code",
   "execution_count": 20,
   "id": "ea817205",
   "metadata": {},
   "outputs": [
    {
     "data": {
      "text/plain": [
       "'C:\\\\Bacon\\\\eggs is the dir name and \\n\\\\spam.txt is the base name'"
      ]
     },
     "execution_count": 20,
     "metadata": {},
     "output_type": "execute_result"
    }
   ],
   "source": [
    "#Q5\n",
    "'''C:\\Bacon\\eggs is the dir name and \n",
    "\\spam.txt is the base name'''"
   ]
  },
  {
   "cell_type": "code",
   "execution_count": 15,
   "id": "276b1200",
   "metadata": {},
   "outputs": [
    {
     "data": {
      "text/plain": [
       "'The three mode arguments are \\n\"r\" for reading\\n\"w\" for writting\\n\"a\" for appending'"
      ]
     },
     "execution_count": 15,
     "metadata": {},
     "output_type": "execute_result"
    }
   ],
   "source": [
    "#Q6\n",
    "'''The three mode arguments are \n",
    "\"r\" for reading\n",
    "\"w\" for writting\n",
    "\"a\" for appending'''"
   ]
  },
  {
   "cell_type": "code",
   "execution_count": 16,
   "id": "893f04ea",
   "metadata": {},
   "outputs": [
    {
     "data": {
      "text/plain": [
       "\"If we open a existing file in write mode it will overwrite the existing file with same name that we have given or \\nit creates new file if the same name doesn't exist\""
      ]
     },
     "execution_count": 16,
     "metadata": {},
     "output_type": "execute_result"
    }
   ],
   "source": [
    "#Q7\n",
    "'''If we open a existing file in write mode it will overwrite the existing file with same name that we have given or \n",
    "it creates new file if the same name doesn't exist'''"
   ]
  },
  {
   "cell_type": "code",
   "execution_count": 17,
   "id": "ad5f2a81",
   "metadata": {},
   "outputs": [
    {
     "data": {
      "text/plain": [
       "'The read() is used to read the entire file as string and \\nthe readline() is used to read single line in the file'"
      ]
     },
     "execution_count": 17,
     "metadata": {},
     "output_type": "execute_result"
    }
   ],
   "source": [
    "#Q8\n",
    "'''The read() is used to read the entire file as string and \n",
    "the readline() is used to read single line in the file'''"
   ]
  },
  {
   "cell_type": "code",
   "execution_count": 18,
   "id": "5b53d963",
   "metadata": {},
   "outputs": [
    {
     "data": {
      "text/plain": [
       "'A shelf value resembles a dictionary value which is of key and value pair'"
      ]
     },
     "execution_count": 18,
     "metadata": {},
     "output_type": "execute_result"
    }
   ],
   "source": [
    "#Q9\n",
    "'''A shelf value resembles a dictionary value which is of key and value pair'''"
   ]
  },
  {
   "cell_type": "code",
   "execution_count": null,
   "id": "c5d3fa9f",
   "metadata": {},
   "outputs": [],
   "source": []
  }
 ],
 "metadata": {
  "kernelspec": {
   "display_name": "Python 3",
   "language": "python",
   "name": "python3"
  },
  "language_info": {
   "codemirror_mode": {
    "name": "ipython",
    "version": 3
   },
   "file_extension": ".py",
   "mimetype": "text/x-python",
   "name": "python",
   "nbconvert_exporter": "python",
   "pygments_lexer": "ipython3",
   "version": "3.8.8"
  }
 },
 "nbformat": 4,
 "nbformat_minor": 5
}
